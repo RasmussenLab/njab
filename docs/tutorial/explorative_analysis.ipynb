{
 "cells": [
  {
   "cell_type": "markdown",
   "id": "d3dbbfdd",
   "metadata": {},
   "source": [
    "# Explorative Analysis\n",
    "Uses the `prostate` time series dataset provided by the `SurvSet` package.\n",
    "- [SurvSet package](https://github.com/ErikinBC/SurvSet/tree/main)\n",
    "First install the dependencies:"
   ]
  },
  {
   "cell_type": "code",
   "execution_count": null,
   "id": "829328e4",
   "metadata": {
    "tags": [
     "hide-output"
    ]
   },
   "outputs": [],
   "source": [
    "%pip install njab openpyxl"
   ]
  },
  {
   "cell_type": "code",
   "execution_count": null,
   "id": "99dc45b9",
   "metadata": {
    "tags": [
     "hide-input"
    ]
   },
   "outputs": [],
   "source": [
    "from functools import partial\n",
    "from pathlib import Path\n",
    "import logging\n",
    "\n",
    "from IPython.display import display\n",
    "\n",
    "import numpy as np\n",
    "import pandas as pd\n",
    "\n",
    "import sklearn\n",
    "import seaborn\n",
    "from lifelines.plotting import add_at_risk_counts\n",
    "\n",
    "import matplotlib.pyplot as plt\n",
    "\n",
    "from njab.plotting.km import compare_km_curves, log_rank_test\n",
    "import njab\n",
    "import njab.plotting\n",
    "\n",
    "njab.pandas.set_pandas_options()\n",
    "njab.plotting.set_font_sizes('x-small')\n",
    "seaborn.set_style(\"whitegrid\")\n",
    "plt.rcParams['figure.figsize'] = [4.0, 4.0]"
   ]
  },
  {
   "cell_type": "markdown",
   "id": "efa8c2db",
   "metadata": {},
   "source": [
    "### Set parameters"
   ]
  },
  {
   "cell_type": "code",
   "execution_count": null,
   "id": "e179b5d7",
   "metadata": {
    "tags": [
     "parameters"
    ]
   },
   "outputs": [],
   "source": [
    "TARGET = 'event'\n",
    "TIME_KM = 'time'\n",
    "FOLDER = 'prostate'\n",
    "CLINIC = 'https://raw.githubusercontent.com/ErikinBC/SurvSet/main/SurvSet/_datagen/output/prostate.csv'\n",
    "val_ids: str = ''  # List of comma separated values or filepath\n",
    "#\n",
    "# list or string of csv, eg. \"var1,var2\"\n",
    "clinic_cont = ['age']\n",
    "# list or string of csv, eg. \"var1,var2\"\n",
    "clinic_binary = ['male', 'AD']\n",
    "# List of comma separated values or filepath\n",
    "da_covar = 'num_age,num_wt'"
   ]
  },
  {
   "cell_type": "code",
   "execution_count": null,
   "id": "69cdadbd",
   "metadata": {
    "tags": [
     "hide-input"
    ]
   },
   "outputs": [],
   "source": [
    "print(f\"Time To Event: {TIME_KM}\")\n",
    "print(f\"event (target) variable: {TARGET}\")"
   ]
  },
  {
   "cell_type": "code",
   "execution_count": null,
   "id": "670bbffa",
   "metadata": {
    "lines_to_next_cell": 0,
    "tags": [
     "hide-cell"
    ]
   },
   "outputs": [],
   "source": [
    "FOLDER = Path(FOLDER)\n",
    "FOLDER.mkdir(exist_ok=True, parents=True)\n",
    "FOLDER"
   ]
  },
  {
   "cell_type": "markdown",
   "id": "c7c6aa41",
   "metadata": {},
   "source": [
    "Inspect the data:"
   ]
  },
  {
   "cell_type": "code",
   "execution_count": null,
   "id": "a75ccf7b",
   "metadata": {
    "tags": [
     "hide-input"
    ]
   },
   "outputs": [],
   "source": [
    "clinic = pd.read_csv(CLINIC, index_col=0).dropna(how='any')\n",
    "clinic.columns.name = 'feat_name'  # ! check needs to be implemented\n",
    "cols_clinic = njab.pandas.get_colums_accessor(clinic)\n",
    "clinic = clinic.astype({var: 'int'\n",
    "                        for var in ['event',\n",
    "                                    'time',\n",
    "                                    'num_age',\n",
    "                                    'num_wt',\n",
    "                                    'num_sbp',\n",
    "                                    'num_dbp',\n",
    "                                    'num_sz',\n",
    "                                    'num_sg',\n",
    "                                    'num_sdate',\n",
    "                                    'fac_stage']}\n",
    "                       )\n",
    "clinic"
   ]
  },
  {
   "cell_type": "markdown",
   "id": "b4482304",
   "metadata": {},
   "source": [
    "Descriptive statistics of non-numeric variables:"
   ]
  },
  {
   "cell_type": "code",
   "execution_count": null,
   "id": "94d840ab",
   "metadata": {},
   "outputs": [],
   "source": [
    "clinic.describe(include='object')"
   ]
  },
  {
   "cell_type": "markdown",
   "id": "d81e5dbc",
   "metadata": {
    "lines_to_next_cell": 0
   },
   "source": [
    "Set the binary variables and convert them to categories:"
   ]
  },
  {
   "cell_type": "code",
   "execution_count": null,
   "id": "2f8bdaa6",
   "metadata": {},
   "outputs": [],
   "source": [
    "vars_binary = ['fac_hx', 'fac_bm']\n",
    "clinic[vars_binary] = clinic[vars_binary].astype('category')"
   ]
  },
  {
   "cell_type": "markdown",
   "id": "ad53a557",
   "metadata": {},
   "source": [
    "Covariates to adjust for:"
   ]
  },
  {
   "cell_type": "code",
   "execution_count": null,
   "id": "70a225e5",
   "metadata": {
    "tags": [
     "hide-input"
    ]
   },
   "outputs": [],
   "source": [
    "check_isin_clinic = partial(njab.pandas.col_isin_df, df=clinic)\n",
    "covar = check_isin_clinic(da_covar)\n",
    "covar"
   ]
  },
  {
   "cell_type": "markdown",
   "id": "d9047cd5",
   "metadata": {},
   "source": [
    "Set continous variables"
   ]
  },
  {
   "cell_type": "code",
   "execution_count": null,
   "id": "9298ee8c",
   "metadata": {},
   "outputs": [],
   "source": [
    "vars_cont = [\n",
    "    'num_age', 'num_wt', 'num_sbp', 'num_dbp', 'num_hg', 'num_sz', 'num_sg',\n",
    "    'num_ap', 'num_sdate', 'fac_stage'\n",
    "]"
   ]
  },
  {
   "cell_type": "markdown",
   "id": "52c22a1a",
   "metadata": {},
   "source": [
    "### Collect outputs\n",
    "in an excel file:"
   ]
  },
  {
   "cell_type": "code",
   "execution_count": null,
   "id": "c15ebccc",
   "metadata": {
    "tags": [
     "hide-input"
    ]
   },
   "outputs": [],
   "source": [
    "fname = FOLDER / '1_differential_analysis.xlsx'\n",
    "files_out = {fname.name: fname}\n",
    "writer = pd.ExcelWriter(fname)\n",
    "print(f\"Output will be written to: {fname}\")"
   ]
  },
  {
   "cell_type": "markdown",
   "id": "6956f849",
   "metadata": {},
   "source": [
    "## Differences between groups defined by target\n",
    "Perform an uncontrolled t-test for continous\n",
    "and binomal test for binary variables.\n",
    "Besides the test results, summary statistics of both groups are provided.\n",
    "\n",
    "First, set the binary target as a boolean mask:"
   ]
  },
  {
   "cell_type": "code",
   "execution_count": null,
   "id": "ed24e044",
   "metadata": {},
   "outputs": [],
   "source": [
    "happend = clinic[TARGET].astype(bool)"
   ]
  },
  {
   "cell_type": "markdown",
   "id": "98d72a2a",
   "metadata": {},
   "source": [
    "### Univariate t-test for continous variables"
   ]
  },
  {
   "cell_type": "code",
   "execution_count": null,
   "id": "4a65a2a3",
   "metadata": {
    "tags": [
     "hide-input"
    ]
   },
   "outputs": [],
   "source": [
    "ana_differential = njab.stats.groups_comparision.diff_analysis(\n",
    "    clinic[vars_cont],\n",
    "    happend,\n",
    "    event_names=(TARGET, 'no event'),\n",
    ")\n",
    "ana_differential = ana_differential.sort_values(('ttest', 'p-val'))\n",
    "ana_differential.to_excel(writer, \"clinic continous\", float_format='%.4f')\n",
    "ana_differential"
   ]
  },
  {
   "cell_type": "markdown",
   "id": "0488b32e",
   "metadata": {},
   "source": [
    "### Binomal test for binary variables:"
   ]
  },
  {
   "cell_type": "code",
   "execution_count": null,
   "id": "1ead1f17",
   "metadata": {
    "tags": [
     "hide-input"
    ]
   },
   "outputs": [],
   "source": [
    "diff_binomial = []\n",
    "for var in vars_binary:\n",
    "    if len(clinic[var].cat.categories) == 2:\n",
    "        diff_binomial.append(\n",
    "            njab.stats.groups_comparision.binomtest(clinic[var],\n",
    "                                                    happend,\n",
    "                                                    event_names=(TARGET,\n",
    "                                                                 'no-event')))\n",
    "    else:\n",
    "        logging.warning(\n",
    "            f\"Non-binary variable: {var} with {len(clinic[var].cat.categories)} categories\"\n",
    "        )\n",
    "\n",
    "diff_binomial = pd.concat(diff_binomial).sort_values(\n",
    "    ('binomial test', 'pvalue'))\n",
    "diff_binomial.to_excel(writer, 'clinic binary', float_format='%.4f')\n",
    "with pd.option_context('display.max_rows', len(diff_binomial)):\n",
    "    display(diff_binomial)"
   ]
  },
  {
   "cell_type": "markdown",
   "id": "10c81862",
   "metadata": {},
   "source": [
    "## Analaysis of covariance (ANCOVA)\n",
    "Next, we select continous variables controlling for covariates.\n",
    "\n",
    "First the summary statistics for the target and covariates:"
   ]
  },
  {
   "cell_type": "code",
   "execution_count": null,
   "id": "c1b3b7fe",
   "metadata": {
    "tags": [
     "hide-input"
    ]
   },
   "outputs": [],
   "source": [
    "clinic_ancova = [TARGET, *covar]\n",
    "clinic_ancova = clinic[clinic_ancova].copy()\n",
    "clinic_ancova.describe(include='all')"
   ]
  },
  {
   "cell_type": "markdown",
   "id": "f55052fb",
   "metadata": {},
   "source": [
    "Discard all rows with a missing features (if present):"
   ]
  },
  {
   "cell_type": "code",
   "execution_count": null,
   "id": "c6103325",
   "metadata": {
    "tags": [
     "hide-input"
    ]
   },
   "outputs": [],
   "source": [
    "clinic_ancova = clinic_ancova.dropna(\n",
    ")\n",
    "categorical_columns = clinic_ancova.columns[clinic_ancova.dtypes == 'category']\n",
    "print(\"Available covariates: \" \", \".join(categorical_columns.to_list()))\n",
    "for categorical_column in categorical_columns:\n",
    "    # only works if no NA and only binary variables!\n",
    "    clinic_ancova[categorical_column] = clinic_ancova[\n",
    "        categorical_column].cat.codes\n",
    "\n",
    "desc_ancova = clinic_ancova.describe()\n",
    "desc_ancova.to_excel(writer, \"covars\", float_format='%.4f')\n",
    "desc_ancova"
   ]
  },
  {
   "cell_type": "markdown",
   "id": "51ed196e",
   "metadata": {},
   "source": [
    "Remove non-varying variables (if present):"
   ]
  },
  {
   "cell_type": "code",
   "execution_count": null,
   "id": "2037d65a",
   "metadata": {
    "tags": [
     "hide-input"
    ]
   },
   "outputs": [],
   "source": [
    "if (desc_ancova.loc['std'] < 0.001).sum():\n",
    "    non_varying = desc_ancova.loc['std'] < 0.001\n",
    "    non_varying = non_varying[non_varying].index\n",
    "    print(\"Non varying columns: \", ', '.join(non_varying))\n",
    "    clinic_ancova = clinic_ancova.drop(non_varying, axis=1)\n",
    "    for col in non_varying:\n",
    "        covar.remove(col)"
   ]
  },
  {
   "cell_type": "markdown",
   "id": "05edd301",
   "metadata": {},
   "source": [
    "Run ANCOVA:"
   ]
  },
  {
   "cell_type": "code",
   "execution_count": null,
   "id": "8bda4c1b",
   "metadata": {
    "tags": [
     "hide-input"
    ]
   },
   "outputs": [],
   "source": [
    "ancova = njab.stats.ancova.AncovaOnlyTarget(\n",
    "    df_proteomics=clinic[vars_cont].drop(covar, axis=1),\n",
    "    df_clinic=clinic_ancova,\n",
    "    target=TARGET,\n",
    "    covar=covar,\n",
    "    value_name='')\n",
    "ancova = ancova.ancova().sort_values('p-unc')\n",
    "ancova = ancova.loc[:, \"p-unc\":]\n",
    "ancova.columns = pd.MultiIndex.from_product([['ancova'], ancova.columns],\n",
    "                                            names=('test', 'var'))\n",
    "ancova.to_excel(writer, \"olink controlled\", float_format='%.4f')\n",
    "ancova.head(20)"
   ]
  },
  {
   "cell_type": "code",
   "execution_count": null,
   "id": "7a2aa310",
   "metadata": {
    "tags": [
     "hide-input"
    ]
   },
   "outputs": [],
   "source": [
    "writer.close()"
   ]
  },
  {
   "cell_type": "markdown",
   "id": "21305f6d",
   "metadata": {},
   "source": [
    "## Kaplan-Meier (KM) plot for top markers\n",
    "Cutoff is defined using a univariate logistic regression\n",
    "\n",
    "\n",
    "$$ \\ln \\frac{p}{1-p} = \\beta_0 + \\beta_1 \\cdot x $$\n",
    "the default cutoff `p=0.5` corresponds to a feature value of:\n",
    "\n",
    "$$ x = - \\frac{\\beta_0}{\\beta_1} $$\n",
    "\n",
    "Optional: The cutoff could be adapted to the prevalence of the target.\n",
    "\n",
    "List of markers with significant difference between groups as defined by ANCOVA:"
   ]
  },
  {
   "cell_type": "code",
   "execution_count": null,
   "id": "c4c8aff8",
   "metadata": {},
   "outputs": [],
   "source": [
    "rejected = ancova.query(\"`('ancova', 'rejected')` == True\")\n",
    "rejected"
   ]
  },
  {
   "cell_type": "markdown",
   "id": "b06e3945",
   "metadata": {
    "lines_to_next_cell": 0
   },
   "source": [
    "Settings for plots"
   ]
  },
  {
   "cell_type": "code",
   "execution_count": null,
   "id": "ca958f2a",
   "metadata": {},
   "outputs": [],
   "source": [
    "class_weight = 'balanced'\n",
    "y_km = clinic[TARGET]\n",
    "time_km = clinic[TIME_KM]\n",
    "compare_km_curves = partial(compare_km_curves,\n",
    "                            time=time_km,\n",
    "                            y=y_km,\n",
    "                            xlim=(0, 80),\n",
    "                            xlabel='time passed',\n",
    "                            ylabel=f'rate {y_km.name}')\n",
    "log_rank_test = partial(\n",
    "    log_rank_test,\n",
    "    time=time_km,\n",
    "    y=y_km,\n",
    ")\n",
    "TOP_N = 2  # None = all"
   ]
  },
  {
   "cell_type": "markdown",
   "id": "9524ccc8",
   "metadata": {},
   "source": [
    "Plot KM curves for `TOP_N` (here two) makers with log-rank test p-value:"
   ]
  },
  {
   "cell_type": "code",
   "execution_count": null,
   "id": "26a0e4a1",
   "metadata": {},
   "outputs": [],
   "source": [
    "for marker, _ in rejected.index[:TOP_N]:  # first case done above currently\n",
    "    fig, ax = plt.subplots()\n",
    "    class_weight = 'balanced'\n",
    "    # class_weight=None\n",
    "    model = sklearn.linear_model.LogisticRegression(class_weight=class_weight)\n",
    "    model = model.fit(X=clinic[marker].to_frame(), y=happend)\n",
    "    print(\n",
    "        f\"Intercept {float(model.intercept_):5.3f}, coef.: {float(model.coef_):5.3f}\"\n",
    "    )\n",
    "    # offset = np.log(p/(1-p)) # ! could be adapted based on proportion of target (for imbalanced data)\n",
    "    offset = np.log(0.5 / (1 - 0.5))  # ! standard cutoff of probability of 0.5\n",
    "    cutoff = offset - float(model.intercept_) / float(model.coef_)\n",
    "    direction = '>' if model.coef_ > 0 else '<'\n",
    "    print(\n",
    "        f\"Custom cutoff defined by Logistic regressor for {marker:>10}: {cutoff:.3f}\"\n",
    "    )\n",
    "    pred = njab.sklearn.scoring.get_pred(model, clinic[marker].to_frame())\n",
    "    ax, kmf_0, kmf_1 = compare_km_curves(pred=pred)\n",
    "    res = log_rank_test(mask=pred)\n",
    "    ax.set_title(\n",
    "        f'KM curve for {TARGET.lower()}'\n",
    "        f' and marker {marker} \\n'\n",
    "        f'(cutoff{direction}{cutoff:.2f}, log-rank-test p={res.p_value:.3f})')\n",
    "    ax.legend([\n",
    "        f\"KP pred=0 (N={(~pred).sum()})\", '95% CI (pred=0)',\n",
    "        f\"KP pred=1 (N={pred.sum()})\", '95% CI (pred=1)'\n",
    "    ])\n",
    "    fname = FOLDER / f'KM_plot_{marker}.pdf'\n",
    "    files_out[fname.name] = fname\n",
    "    njab.plotting.savefig(ax.get_figure(), fname)\n",
    "\n",
    "    # add counts\n",
    "    add_at_risk_counts(kmf_0, kmf_1, ax=ax)\n",
    "    fname = FOLDER / f'KM_plot_{marker}_w_counts.pdf'\n",
    "    files_out[fname.name] = fname\n",
    "    njab.plotting.savefig(ax.get_figure(), fname)"
   ]
  },
  {
   "cell_type": "code",
   "execution_count": null,
   "id": "ab9d2174",
   "metadata": {},
   "outputs": [],
   "source": []
  }
 ],
 "metadata": {
  "jupytext": {
   "formats": "ipynb,py:percent"
  },
  "kernelspec": {
   "display_name": "Python 3 (ipykernel)",
   "language": "python",
   "name": "python3"
  }
 },
 "nbformat": 4,
 "nbformat_minor": 5
}
