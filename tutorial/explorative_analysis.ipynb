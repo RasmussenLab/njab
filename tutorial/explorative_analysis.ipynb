{
 "cells": [
  {
   "cell_type": "markdown",
   "id": "d3dbbfdd",
   "metadata": {},
   "source": [
    "# Explorative Analysis\n",
    "Uses the `prostate`` time series dataset provided by the `SurvSet` package.\n",
    "- [SurvSet package](https://github.com/ErikinBC/SurvSet/tree/main)"
   ]
  },
  {
   "cell_type": "code",
   "execution_count": null,
   "id": "829328e4",
   "metadata": {},
   "outputs": [],
   "source": [
    "!pip install njab pyopenxl"
   ]
  },
  {
   "cell_type": "code",
   "execution_count": null,
   "id": "99dc45b9",
   "metadata": {},
   "outputs": [],
   "source": [
    "from functools import partial\n",
    "from pathlib import Path\n",
    "import logging\n",
    "\n",
    "from IPython.display import display\n",
    "\n",
    "import numpy as np\n",
    "import pandas as pd\n",
    "\n",
    "import pingouin as pg\n",
    "import sklearn\n",
    "import seaborn\n",
    "from lifelines.plotting import add_at_risk_counts\n",
    "\n",
    "import matplotlib.pyplot as plt\n",
    "\n",
    "\n",
    "from njab.plotting.km import compare_km_curves, log_rank_test\n",
    "import njab\n",
    "import njab.plotting\n",
    "\n",
    "njab.plotting.set_font_sizes('x-small')\n",
    "seaborn.set_style(\"whitegrid\")"
   ]
  },
  {
   "cell_type": "markdown",
   "id": "efa8c2db",
   "metadata": {},
   "source": [
    "## Set parameters"
   ]
  },
  {
   "cell_type": "code",
   "execution_count": null,
   "id": "e179b5d7",
   "metadata": {
    "tags": [
     "parameters"
    ]
   },
   "outputs": [],
   "source": [
    "TARGET = 'event'\n",
    "TIME_KM = 'time'\n",
    "FOLDER = 'prostate'\n",
    "CLINIC = 'https://raw.githubusercontent.com/ErikinBC/SurvSet/main/SurvSet/_datagen/output/prostate.csv'\n",
    "val_ids: str = ''  # List of comma separated values or filepath\n",
    "#\n",
    "# list or string of csv, eg. \"var1,var2\"\n",
    "clinic_cont = ['age']\n",
    "# list or string of csv, eg. \"var1,var2\"\n",
    "clinic_binary = ['male', 'AD']\n",
    "# List of comma separated values or filepath\n",
    "da_covar = 'num_age,num_wt'"
   ]
  },
  {
   "cell_type": "code",
   "execution_count": null,
   "id": "69cdadbd",
   "metadata": {},
   "outputs": [],
   "source": [
    "print(f\"Time To Event: {TIME_KM} and rate variables for {TARGET}\")"
   ]
  },
  {
   "cell_type": "code",
   "execution_count": null,
   "id": "670bbffa",
   "metadata": {},
   "outputs": [],
   "source": [
    "FOLDER = Path(FOLDER)\n",
    "FOLDER.mkdir(exist_ok=True, parents=True)\n",
    "FOLDER"
   ]
  },
  {
   "cell_type": "code",
   "execution_count": null,
   "id": "a75ccf7b",
   "metadata": {},
   "outputs": [],
   "source": [
    "clinic = pd.read_csv(CLINIC, index_col=0).dropna(how='any')\n",
    "clinic.columns.name = 'feat_name'  # ! check needs to be implemented\n",
    "cols_clinic = njab.pandas.get_colums_accessor(clinic)\n",
    "clinic"
   ]
  },
  {
   "cell_type": "code",
   "execution_count": null,
   "id": "94d840ab",
   "metadata": {},
   "outputs": [],
   "source": [
    "clinic.describe(include='object')"
   ]
  },
  {
   "cell_type": "code",
   "execution_count": null,
   "id": "2f8bdaa6",
   "metadata": {},
   "outputs": [],
   "source": [
    "vars_binary = ['fac_hx', 'fac_bm']\n",
    "vars_binary"
   ]
  },
  {
   "cell_type": "code",
   "execution_count": null,
   "id": "e44e3cc7",
   "metadata": {},
   "outputs": [],
   "source": [
    "clinic[vars_binary] = clinic[vars_binary].astype('category')"
   ]
  },
  {
   "cell_type": "code",
   "execution_count": null,
   "id": "70a225e5",
   "metadata": {},
   "outputs": [],
   "source": [
    "check_isin_clinic = partial(njab.pandas.col_isin_df, df=clinic)\n",
    "covar = check_isin_clinic(da_covar)\n",
    "covar"
   ]
  },
  {
   "cell_type": "code",
   "execution_count": null,
   "id": "9298ee8c",
   "metadata": {
    "lines_to_next_cell": 2
   },
   "outputs": [],
   "source": [
    "vars_cont = ['num_age',\n",
    "             'num_wt',\n",
    "             'num_sbp',\n",
    "             'num_dbp',\n",
    "             'num_hg',\n",
    "             'num_sz',\n",
    "             'num_sg',\n",
    "             'num_ap',\n",
    "             'num_sdate',\n",
    "             'fac_stage']\n",
    "vars_cont"
   ]
  },
  {
   "cell_type": "markdown",
   "id": "52c22a1a",
   "metadata": {},
   "source": [
    "## Collect outputs"
   ]
  },
  {
   "cell_type": "code",
   "execution_count": null,
   "id": "c15ebccc",
   "metadata": {},
   "outputs": [],
   "source": [
    "fname = FOLDER / '1_differential_analysis.xlsx'\n",
    "files_out = {fname.name: fname}\n",
    "writer = pd.ExcelWriter(fname)\n",
    "fname"
   ]
  },
  {
   "cell_type": "markdown",
   "id": "6956f849",
   "metadata": {},
   "source": [
    "# Differences between groups defined by target"
   ]
  },
  {
   "cell_type": "code",
   "execution_count": null,
   "id": "6c7306b3",
   "metadata": {},
   "outputs": [],
   "source": [
    "clinic"
   ]
  },
  {
   "cell_type": "code",
   "execution_count": null,
   "id": "ed24e044",
   "metadata": {},
   "outputs": [],
   "source": [
    "happend = clinic[TARGET].astype(bool)"
   ]
  },
  {
   "cell_type": "markdown",
   "id": "98d72a2a",
   "metadata": {},
   "source": [
    "## Continous"
   ]
  },
  {
   "cell_type": "code",
   "execution_count": null,
   "id": "f099dfb4",
   "metadata": {},
   "outputs": [],
   "source": [
    "var = 'num_age'\n",
    "pg.ttest(clinic.loc[happend, var], clinic.loc[~happend, var])"
   ]
  },
  {
   "cell_type": "code",
   "execution_count": null,
   "id": "4a65a2a3",
   "metadata": {},
   "outputs": [],
   "source": [
    "ana_differential = njab.stats.groups_comparision.diff_analysis(\n",
    "    clinic[vars_cont],\n",
    "    happend,\n",
    "    event_names=(TARGET, 'no event'),\n",
    ")\n",
    "ana_differential = ana_differential.sort_values(('ttest', 'p-val'))\n",
    "ana_differential.to_excel(writer, \"clinic continous\", float_format='%.4f')\n",
    "ana_differential"
   ]
  },
  {
   "cell_type": "markdown",
   "id": "0488b32e",
   "metadata": {},
   "source": [
    "## Binary"
   ]
  },
  {
   "cell_type": "code",
   "execution_count": null,
   "id": "9ce93dd6",
   "metadata": {},
   "outputs": [],
   "source": [
    "clinic[vars_binary].describe()"
   ]
  },
  {
   "cell_type": "markdown",
   "id": "c15fba82",
   "metadata": {},
   "source": [
    "Might focus on discriminative power of\n",
    "  - DecompensatedAtDiagnosis\n",
    "  - alcohol consumption\n",
    "\n",
    "but the more accute diseases as heart disease and cancer seem to be distinctive"
   ]
  },
  {
   "cell_type": "code",
   "execution_count": null,
   "id": "1ead1f17",
   "metadata": {},
   "outputs": [],
   "source": [
    "diff_binomial = []\n",
    "for var in vars_binary:\n",
    "    if len(clinic[var].cat.categories) == 2:\n",
    "        diff_binomial.append(\n",
    "            njab.stats.groups_comparision.binomtest(clinic[var],\n",
    "                                                    happend,\n",
    "                                                    event_names=(TARGET,\n",
    "                                                                 'no-event')))\n",
    "    else:\n",
    "        logging.warning(\n",
    "            f\"Non-binary variable: {var} with {len(clinic[var].cat.categories)} categories\"\n",
    "        )\n",
    "\n",
    "diff_binomial = pd.concat(diff_binomial).sort_values(\n",
    "    ('binomial test', 'pvalue'))\n",
    "diff_binomial.to_excel(writer, 'clinic binary', float_format='%.4f')\n",
    "with pd.option_context('display.max_rows', len(diff_binomial)):\n",
    "    display(diff_binomial)"
   ]
  },
  {
   "cell_type": "code",
   "execution_count": null,
   "id": "c1b3b7fe",
   "metadata": {},
   "outputs": [],
   "source": [
    "clinic_ancova = [TARGET, *covar]\n",
    "clinic_ancova = clinic[clinic_ancova].copy()\n",
    "clinic_ancova.describe(include='all')"
   ]
  },
  {
   "cell_type": "code",
   "execution_count": null,
   "id": "c6103325",
   "metadata": {},
   "outputs": [],
   "source": [
    "clinic_ancova = clinic_ancova.dropna(\n",
    ")  # for now discard all rows with a missing feature\n",
    "categorical_columns = clinic_ancova.columns[clinic_ancova.dtypes == 'category']\n",
    "print(\"Available covariates\", \", \".join(categorical_columns.to_list()))\n",
    "for categorical_column in categorical_columns:\n",
    "    # only works if no NA and only binary variables!\n",
    "    clinic_ancova[categorical_column] = clinic_ancova[\n",
    "        categorical_column].cat.codes\n",
    "\n",
    "desc_ancova = clinic_ancova.describe()\n",
    "desc_ancova.to_excel(writer, \"covars\", float_format='%.4f')\n",
    "desc_ancova"
   ]
  },
  {
   "cell_type": "code",
   "execution_count": null,
   "id": "2037d65a",
   "metadata": {},
   "outputs": [],
   "source": [
    "if (desc_ancova.loc['std'] < 0.001).sum():\n",
    "    non_varying = desc_ancova.loc['std'] < 0.001\n",
    "    non_varying = non_varying[non_varying].index\n",
    "    print(\"Non varying columns: \", ', '.join(non_varying))\n",
    "    clinic_ancova = clinic_ancova.drop(non_varying, axis=1)\n",
    "    for col in non_varying:\n",
    "        covar.remove(col)"
   ]
  },
  {
   "cell_type": "code",
   "execution_count": null,
   "id": "8bda4c1b",
   "metadata": {
    "lines_to_next_cell": 2
   },
   "outputs": [],
   "source": [
    "ancova = njab.stats.ancova.AncovaOnlyTarget(\n",
    "    df_proteomics=clinic[vars_cont].drop(covar, axis=1),\n",
    "    df_clinic=clinic_ancova,\n",
    "    target=TARGET,\n",
    "    covar=covar,\n",
    "    value_name='')\n",
    "ancova = ancova.ancova().sort_values('p-unc')\n",
    "ancova = ancova.loc[:, \"p-unc\":]\n",
    "ancova.columns = pd.MultiIndex.from_product([['ancova'], ancova.columns],\n",
    "                                            names=('test', 'var'))\n",
    "ancova.to_excel(writer, \"olink controlled\", float_format='%.4f')\n",
    "ancova.head(20)"
   ]
  },
  {
   "cell_type": "code",
   "execution_count": null,
   "id": "7a2aa310",
   "metadata": {},
   "outputs": [],
   "source": [
    "writer.close()"
   ]
  },
  {
   "cell_type": "markdown",
   "id": "21305f6d",
   "metadata": {},
   "source": [
    "# KM plot for top marker\n",
    "Cutoff is defined using a univariate logistic regression\n",
    "\n",
    "\n",
    "$$ \\ln \\frac{p}{1-p} = \\beta_0 + \\beta_1 \\cdot x $$\n",
    "the default cutoff `p=0.5` corresponds to a feature value of:\n",
    "$$ x = - \\frac{\\beta_0}{\\beta_1} $$\n",
    "\n",
    "Optional: The cutoff could be adapted to the prevalence of the target."
   ]
  },
  {
   "cell_type": "code",
   "execution_count": null,
   "id": "c4c8aff8",
   "metadata": {},
   "outputs": [],
   "source": [
    "rejected = ancova.query(\"`('ancova', 'rejected')` == True\")\n",
    "rejected"
   ]
  },
  {
   "cell_type": "code",
   "execution_count": null,
   "id": "ca958f2a",
   "metadata": {},
   "outputs": [],
   "source": [
    "# settings for plots\n",
    "class_weight = 'balanced'\n",
    "y_km = clinic[TARGET]\n",
    "time_km = clinic[TIME_KM]\n",
    "compare_km_curves = partial(compare_km_curves,\n",
    "                            time=time_km,\n",
    "                            y=y_km,\n",
    "                            xlabel='Days since inflammation sample',\n",
    "                            ylabel=f'rate {y_km.name}')\n",
    "log_rank_test = partial(\n",
    "    log_rank_test,\n",
    "    time=time_km,\n",
    "    y=y_km,\n",
    ")\n",
    "TOP_N = 2  # None = all"
   ]
  },
  {
   "cell_type": "code",
   "execution_count": null,
   "id": "26a0e4a1",
   "metadata": {},
   "outputs": [],
   "source": [
    "for marker, name in rejected.index[:TOP_N]:  # first case done above currently\n",
    "    fig, ax = plt.subplots()\n",
    "    class_weight = 'balanced'\n",
    "    # class_weight=None\n",
    "    model = sklearn.linear_model.LogisticRegression(class_weight=class_weight)\n",
    "    model = model.fit(X=clinic[marker].to_frame(), y=happend)\n",
    "    print(\n",
    "        f\"Intercept {float(model.intercept_):5.3f}, coef.: {float(model.coef_):5.3f}\")\n",
    "    # offset = np.log(p/(1-p)) # ! could be adapted based on proportion of target (for imbalanced data)\n",
    "    offset = np.log(0.5 / (1 - 0.5))  # ! standard cutoff of probability of 0.5\n",
    "    cutoff = offset - float(model.intercept_) / float(model.coef_)\n",
    "    direction = '>' if model.coef_ > 0 else '<'\n",
    "    print(\n",
    "        f\"Custom cutoff defined by Logistic regressor for {marker:>10}: {cutoff:.3f}\"\n",
    "    )\n",
    "    pred = njab.sklearn.scoring.get_pred(model, clinic[marker].to_frame())\n",
    "    ax, kmf_0, kmf_1 = compare_km_curves(pred=pred)\n",
    "    res = log_rank_test(mask=pred)\n",
    "    ax.set_title(\n",
    "        f'KM curve for {TARGET.lower()}'\n",
    "        f' and marker {marker} \\n'\n",
    "        f'(cutoff{direction}{cutoff:.2f}, log-rank-test p={res.p_value:.3f})'\n",
    "    )\n",
    "    ax.legend([\n",
    "        f\"KP pred=0 (N={(~pred).sum()})\", '95% CI (pred=0)',\n",
    "        f\"KP pred=1 (N={pred.sum()})\", '95% CI (pred=1)'\n",
    "    ])\n",
    "    fname = FOLDER / f'KM_plot_{marker}.pdf'\n",
    "    files_out[fname.name] = fname\n",
    "    njab.plotting.savefig(ax.get_figure(), fname)\n",
    "\n",
    "    # add counts\n",
    "    add_at_risk_counts(kmf_0, kmf_1, ax=ax)\n",
    "    fname = FOLDER / f'KM_plot_{marker}_w_counts.pdf'\n",
    "    files_out[fname.name] = fname\n",
    "    njab.plotting.savefig(ax.get_figure(), fname)"
   ]
  },
  {
   "cell_type": "code",
   "execution_count": null,
   "id": "ab9d2174",
   "metadata": {},
   "outputs": [],
   "source": []
  }
 ],
 "metadata": {
  "jupytext": {
   "formats": "ipynb,py:percent"
  },
  "kernelspec": {
   "display_name": "Python 3 (ipykernel)",
   "language": "python",
   "name": "python3"
  }
 },
 "nbformat": 4,
 "nbformat_minor": 5
}
